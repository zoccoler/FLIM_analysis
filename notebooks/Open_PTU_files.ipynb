{
 "cells": [
  {
   "cell_type": "markdown",
   "id": "4d15b28e-1904-4a14-b956-6088c156e2cc",
   "metadata": {},
   "source": [
    "# Open PTU files\n",
    "This notebook opens \".ptu\" files."
   ]
  },
  {
   "cell_type": "markdown",
   "id": "00faaa6d-0d78-4249-9d17-e8de84b2a3b0",
   "metadata": {},
   "source": [
    "## Set data path"
   ]
  },
  {
   "cell_type": "code",
   "execution_count": 5,
   "id": "f45663be-bdf3-4c0a-b9a7-affae8eff5a9",
   "metadata": {},
   "outputs": [],
   "source": [
    "from pathlib import Path"
   ]
  },
  {
   "cell_type": "code",
   "execution_count": 6,
   "id": "4463dfa1-6787-430c-a183-b75ae6e24bba",
   "metadata": {},
   "outputs": [],
   "source": [
    "data_path = \"C:/Users/mazo260d/Desktop/Conni_BiA_PoL/copied_for_Marcelo/single_image/raw_FLIM_data/single_FLIM_image.ptu\""
   ]
  },
  {
   "cell_type": "code",
   "execution_count": 7,
   "id": "1feee131-d11e-46a3-a6a6-9b254d8ffec2",
   "metadata": {},
   "outputs": [],
   "source": [
    "data_path = Path(data_path)"
   ]
  },
  {
   "cell_type": "markdown",
   "id": "e9b57827-f89a-4c9f-8226-be8127a70182",
   "metadata": {},
   "source": [
    "## Open ptu file"
   ]
  },
  {
   "cell_type": "markdown",
   "id": "61a81233-2d20-4404-91c2-055adcdb6f5b",
   "metadata": {},
   "source": [
    "https://github.com/SumeetRohilla/readPTU_FLIM"
   ]
  },
  {
   "cell_type": "code",
   "execution_count": 8,
   "id": "fe3bb66c-a6eb-4c63-95a2-0a99ac8cc991",
   "metadata": {},
   "outputs": [],
   "source": [
    "from readPTU_FLIM import PTUreader"
   ]
  },
  {
   "cell_type": "code",
   "execution_count": 11,
   "id": "d6699513-7132-4003-8be8-4e8ecc50552b",
   "metadata": {},
   "outputs": [
    {
     "name": "stdout",
     "output_type": "stream",
     "text": [
      "TCSPC Hardware: PicoHarpT3\n",
      "Raw Data has been Read!\n",
      "\n"
     ]
    }
   ],
   "source": [
    "ptu_file = PTUreader(data_path, print_header_data = False)"
   ]
  },
  {
   "cell_type": "code",
   "execution_count": null,
   "id": "b408b5f7-c6e8-46ab-ae11-8af0506476a5",
   "metadata": {},
   "outputs": [],
   "source": []
  }
 ],
 "metadata": {
  "kernelspec": {
   "display_name": "Python 3 (ipykernel)",
   "language": "python",
   "name": "python3"
  },
  "language_info": {
   "codemirror_mode": {
    "name": "ipython",
    "version": 3
   },
   "file_extension": ".py",
   "mimetype": "text/x-python",
   "name": "python",
   "nbconvert_exporter": "python",
   "pygments_lexer": "ipython3",
   "version": "3.9.13"
  },
  "widgets": {
   "application/vnd.jupyter.widget-state+json": {
    "state": {},
    "version_major": 2,
    "version_minor": 0
   }
  }
 },
 "nbformat": 4,
 "nbformat_minor": 5
}
