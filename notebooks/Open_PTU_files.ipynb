{
 "cells": [
  {
   "cell_type": "markdown",
   "id": "4d15b28e-1904-4a14-b956-6088c156e2cc",
   "metadata": {
    "tags": []
   },
   "source": [
    "# Open PTU files\n",
    "This notebook opens \".ptu\" files."
   ]
  },
  {
   "cell_type": "markdown",
   "id": "00faaa6d-0d78-4249-9d17-e8de84b2a3b0",
   "metadata": {},
   "source": [
    "## Set data path"
   ]
  },
  {
   "cell_type": "code",
   "execution_count": 1,
   "id": "f45663be-bdf3-4c0a-b9a7-affae8eff5a9",
   "metadata": {},
   "outputs": [],
   "source": [
    "from pathlib import Path"
   ]
  },
  {
   "cell_type": "code",
   "execution_count": 2,
   "id": "4463dfa1-6787-430c-a183-b75ae6e24bba",
   "metadata": {},
   "outputs": [],
   "source": [
    "data_path = \"C:/Users/mazo260d/Desktop/Conni_BiA_PoL/copied_for_Marcelo/single_image/raw_FLIM_data/single_FLIM_image.ptu\""
   ]
  },
  {
   "cell_type": "code",
   "execution_count": 3,
   "id": "1feee131-d11e-46a3-a6a6-9b254d8ffec2",
   "metadata": {},
   "outputs": [],
   "source": [
    "data_path = Path(data_path)"
   ]
  },
  {
   "cell_type": "markdown",
   "id": "e9b57827-f89a-4c9f-8226-be8127a70182",
   "metadata": {},
   "source": [
    "## Open ptu file"
   ]
  },
  {
   "cell_type": "markdown",
   "id": "61a81233-2d20-4404-91c2-055adcdb6f5b",
   "metadata": {},
   "source": [
    "https://github.com/SumeetRohilla/readPTU_FLIM"
   ]
  },
  {
   "cell_type": "code",
   "execution_count": 4,
   "id": "fe3bb66c-a6eb-4c63-95a2-0a99ac8cc991",
   "metadata": {},
   "outputs": [],
   "source": [
    "from readPTU_FLIM import PTUreader"
   ]
  },
  {
   "cell_type": "code",
   "execution_count": 5,
   "id": "d6699513-7132-4003-8be8-4e8ecc50552b",
   "metadata": {},
   "outputs": [
    {
     "ename": "FileNotFoundError",
     "evalue": "[Errno 2] No such file or directory: 'C:\\\\Users\\\\mazo260d\\\\Desktop\\\\Conni_BiA_PoL\\\\copied_for_Marcelo\\\\single_image\\\\raw_FLIM_data\\\\single_FLIM_image.ptu'",
     "output_type": "error",
     "traceback": [
      "\u001b[1;31m---------------------------------------------------------------------------\u001b[0m",
      "\u001b[1;31mFileNotFoundError\u001b[0m                         Traceback (most recent call last)",
      "Cell \u001b[1;32mIn [5], line 1\u001b[0m\n\u001b[1;32m----> 1\u001b[0m ptu_file \u001b[38;5;241m=\u001b[39m \u001b[43mPTUreader\u001b[49m\u001b[43m(\u001b[49m\u001b[43mdata_path\u001b[49m\u001b[43m,\u001b[49m\u001b[43m \u001b[49m\u001b[43mprint_header_data\u001b[49m\u001b[43m \u001b[49m\u001b[38;5;241;43m=\u001b[39;49m\u001b[43m \u001b[49m\u001b[38;5;28;43;01mFalse\u001b[39;49;00m\u001b[43m)\u001b[49m\n",
      "File \u001b[1;32m~\\Documents\\GitHub\\FLIM_analysis\\notebooks\\readPTU_FLIM.py:245\u001b[0m, in \u001b[0;36mPTUreader.__init__\u001b[1;34m(self, filename, print_header_data)\u001b[0m\n\u001b[0;32m    242\u001b[0m \u001b[38;5;28mself\u001b[39m\u001b[38;5;241m.\u001b[39mptu_name        \u001b[38;5;241m=\u001b[39m filename\n\u001b[0;32m    243\u001b[0m \u001b[38;5;28mself\u001b[39m\u001b[38;5;241m.\u001b[39mprint_header    \u001b[38;5;241m=\u001b[39m print_header_data\n\u001b[1;32m--> 245\u001b[0m f \u001b[38;5;241m=\u001b[39m \u001b[38;5;28;43mopen\u001b[39;49m\u001b[43m(\u001b[49m\u001b[38;5;28;43mself\u001b[39;49m\u001b[38;5;241;43m.\u001b[39;49m\u001b[43mptu_name\u001b[49m\u001b[43m,\u001b[49m\u001b[43m \u001b[49m\u001b[38;5;124;43m'\u001b[39;49m\u001b[38;5;124;43mrb\u001b[39;49m\u001b[38;5;124;43m'\u001b[39;49m\u001b[43m)\u001b[49m\n\u001b[0;32m    246\u001b[0m \u001b[38;5;28mself\u001b[39m\u001b[38;5;241m.\u001b[39mptu_data_string \u001b[38;5;241m=\u001b[39m f\u001b[38;5;241m.\u001b[39mread() \u001b[38;5;66;03m# ptu_data_string is a string of bytes and reads all file in memory\u001b[39;00m\n\u001b[0;32m    247\u001b[0m f\u001b[38;5;241m.\u001b[39mclose()\n",
      "\u001b[1;31mFileNotFoundError\u001b[0m: [Errno 2] No such file or directory: 'C:\\\\Users\\\\mazo260d\\\\Desktop\\\\Conni_BiA_PoL\\\\copied_for_Marcelo\\\\single_image\\\\raw_FLIM_data\\\\single_FLIM_image.ptu'"
     ]
    }
   ],
   "source": [
    "ptu_file = PTUreader(data_path, print_header_data = False)"
   ]
  },
  {
   "cell_type": "code",
   "execution_count": null,
   "id": "b408b5f7-c6e8-46ab-ae11-8af0506476a5",
   "metadata": {},
   "outputs": [],
   "source": [
    "a=0"
   ]
  }
 ],
 "metadata": {
  "kernelspec": {
   "display_name": "Python 3 (ipykernel)",
   "language": "python",
   "name": "python3"
  },
  "language_info": {
   "codemirror_mode": {
    "name": "ipython",
    "version": 3
   },
   "file_extension": ".py",
   "mimetype": "text/x-python",
   "name": "python",
   "nbconvert_exporter": "python",
   "pygments_lexer": "ipython3",
   "version": "3.9.13"
  },
  "widgets": {
   "application/vnd.jupyter.widget-state+json": {
    "state": {},
    "version_major": 2,
    "version_minor": 0
   }
  }
 },
 "nbformat": 4,
 "nbformat_minor": 5
}
