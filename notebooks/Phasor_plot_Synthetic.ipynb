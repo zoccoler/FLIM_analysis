{
 "cells": [
  {
   "cell_type": "markdown",
   "id": "7a1f9401-1358-4e1d-87cf-ead32068c4f4",
   "metadata": {},
   "source": [
    "# Calculate and Plot Phasor Plots"
   ]
  },
  {
   "cell_type": "code",
   "execution_count": 1,
   "id": "1bd35fdb-c2af-47bc-b81d-a08da2df5fa5",
   "metadata": {
    "tags": []
   },
   "outputs": [],
   "source": [
    "from matplotlib import pyplot as plt\n",
    "import numpy as np\n",
    "import napari\n",
    "from PhasorPy import phasor, phasor_plot, rgb_coloring, phasor_circle, histogram_filtering\n",
    "from matplotlib import colors"
   ]
  },
  {
   "cell_type": "markdown",
   "id": "4783ed9f-88a7-4bf1-9de5-b836fb45dbcb",
   "metadata": {},
   "source": [
    "## Make Synthetic FLIM data"
   ]
  },
  {
   "cell_type": "code",
   "execution_count": 2,
   "id": "c0123b2c-a1fe-419f-8787-8783dcdf9f2d",
   "metadata": {},
   "outputs": [],
   "source": [
    "def monoexp(x, a, tau):\n",
    "    import numpy as np\n",
    "    return a * np.exp(-(1/tau)*x)"
   ]
  },
  {
   "cell_type": "code",
   "execution_count": 3,
   "id": "710619c4-03c9-49e0-ab94-1a715e7f58d2",
   "metadata": {},
   "outputs": [],
   "source": [
    "laser_frequency = 60 # MHz\n",
    "total_time_points = 270\n",
    "laser_time_window = 1 / (laser_frequency * 10**6)\n",
    "laser_time_window_ns = laser_time_window * 10**9\n",
    "\n",
    "time_step = laser_time_window_ns / total_time_points # ns\n",
    "\n",
    "array = np.arange(0, total_time_points)\n",
    "time_array = array * time_step"
   ]
  },
  {
   "cell_type": "code",
   "execution_count": 4,
   "id": "9583771f-a0da-45fe-be09-c9f382542c47",
   "metadata": {},
   "outputs": [
    {
     "data": {
      "text/plain": [
       "16.666666666666668"
      ]
     },
     "execution_count": 4,
     "metadata": {},
     "output_type": "execute_result"
    }
   ],
   "source": [
    "laser_time_window_ns"
   ]
  },
  {
   "cell_type": "code",
   "execution_count": 5,
   "id": "d96337bc-5079-45e6-a22d-15045d5cf790",
   "metadata": {},
   "outputs": [
    {
     "data": {
      "text/plain": [
       "0.0617283950617284"
      ]
     },
     "execution_count": 5,
     "metadata": {},
     "output_type": "execute_result"
    }
   ],
   "source": [
    "time_step"
   ]
  },
  {
   "cell_type": "code",
   "execution_count": 6,
   "id": "02d1a209-6900-445d-9bab-41288184663e",
   "metadata": {},
   "outputs": [],
   "source": [
    "a = 1\n",
    "tau = 1 # ns"
   ]
  },
  {
   "cell_type": "code",
   "execution_count": 7,
   "id": "a7727482-f8a7-4f74-9377-c3899a417685",
   "metadata": {},
   "outputs": [
    {
     "data": {
      "text/plain": [
       "[<matplotlib.lines.Line2D at 0x2a303db9940>]"
      ]
     },
     "execution_count": 7,
     "metadata": {},
     "output_type": "execute_result"
    },
    {
     "data": {
      "image/png": "[encoded data removed]",
      "text/plain": [
       "<Figure size 640x480 with 1 Axes>"
      ]
     },
     "metadata": {},
     "output_type": "display_data"
    }
   ],
   "source": [
    "plt.plot(time_array, monoexp(time_array, a, tau))"
   ]
  },
  {
   "cell_type": "code",
   "execution_count": 10,
   "id": "73fc8106-9e84-4c43-9720-36b4859e79f8",
   "metadata": {
    "tags": []
   },
   "outputs": [],
   "source": [
    "intensity = monoexp(time_array, a, tau)\n",
    "flim_data_stack = np.repeat(intensity[:, np.newaxis], 25, axis=1).reshape(total_time_points, 5, 5)"
   ]
  },
  {
   "cell_type": "markdown",
   "id": "26feed25-2861-4832-92b4-857d606dc892",
   "metadata": {},
   "source": [
    "## FFT"
   ]
  },
  {
   "cell_type": "code",
   "execution_count": 11,
   "id": "26e9ece1-caba-409e-90dd-acaf688cd4e7",
   "metadata": {},
   "outputs": [],
   "source": [
    "flim_data_fft = np.fft.fft(flim_data_stack, axis=0)"
   ]
  },
  {
   "cell_type": "code",
   "execution_count": 12,
   "id": "25f8bc4f-e19e-4237-84db-eadccc954e98",
   "metadata": {},
   "outputs": [],
   "source": [
    "harmonic = 1"
   ]
  },
  {
   "cell_type": "code",
   "execution_count": 13,
   "id": "8648553d-1b4d-4e7d-bbab-9eaf18c05830",
   "metadata": {},
   "outputs": [
    {
     "data": {
      "text/plain": [
       "array([[16.70514274, 16.70514274, 16.70514274, 16.70514274, 16.70514274],\n",
       "       [16.70514274, 16.70514274, 16.70514274, 16.70514274, 16.70514274],\n",
       "       [16.70514274, 16.70514274, 16.70514274, 16.70514274, 16.70514274],\n",
       "       [16.70514274, 16.70514274, 16.70514274, 16.70514274, 16.70514274],\n",
       "       [16.70514274, 16.70514274, 16.70514274, 16.70514274, 16.70514274]])"
      ]
     },
     "execution_count": 13,
     "metadata": {},
     "output_type": "execute_result"
    }
   ],
   "source": [
    "flim_data_fft[0].real"
   ]
  },
  {
   "cell_type": "code",
   "execution_count": 14,
   "id": "aaada922-2eec-426c-bbcb-b40ccc081396",
   "metadata": {},
   "outputs": [],
   "source": [
    "g = flim_data_fft[harmonic].real\n",
    "g /= flim_data_fft[0].real\n",
    "s = flim_data_fft[harmonic].imag\n",
    "s /= -flim_data_fft[0].real   "
   ]
  },
  {
   "cell_type": "code",
   "execution_count": 15,
   "id": "1aadb0d0-54fb-4267-ade5-58593e432f9e",
   "metadata": {},
   "outputs": [
    {
     "data": {
      "text/plain": [
       "array([[0.87932581, 0.87932581, 0.87932581, 0.87932581, 0.87932581],\n",
       "       [0.87932581, 0.87932581, 0.87932581, 0.87932581, 0.87932581],\n",
       "       [0.87932581, 0.87932581, 0.87932581, 0.87932581, 0.87932581],\n",
       "       [0.87932581, 0.87932581, 0.87932581, 0.87932581, 0.87932581],\n",
       "       [0.87932581, 0.87932581, 0.87932581, 0.87932581, 0.87932581]])"
      ]
     },
     "execution_count": 15,
     "metadata": {},
     "output_type": "execute_result"
    }
   ],
   "source": [
    "g"
   ]
  },
  {
   "cell_type": "code",
   "execution_count": 16,
   "id": "6003f3b7-5f38-49ed-a42e-715c5a49c87f",
   "metadata": {},
   "outputs": [
    {
     "data": {
      "text/plain": [
       "array([[0.31998219, 0.31998219, 0.31998219, 0.31998219, 0.31998219],\n",
       "       [0.31998219, 0.31998219, 0.31998219, 0.31998219, 0.31998219],\n",
       "       [0.31998219, 0.31998219, 0.31998219, 0.31998219, 0.31998219],\n",
       "       [0.31998219, 0.31998219, 0.31998219, 0.31998219, 0.31998219],\n",
       "       [0.31998219, 0.31998219, 0.31998219, 0.31998219, 0.31998219]])"
      ]
     },
     "execution_count": 16,
     "metadata": {},
     "output_type": "execute_result"
    }
   ],
   "source": [
    "s"
   ]
  },
  {
   "cell_type": "code",
   "execution_count": 17,
   "id": "adb93417-c682-4622-b0b9-467291953990",
   "metadata": {},
   "outputs": [
    {
     "data": {
      "text/plain": [
       "array([[0.24627667, 0.24627667, 0.24627667, 0.24627667, 0.24627667],\n",
       "       [0.24627667, 0.24627667, 0.24627667, 0.24627667, 0.24627667],\n",
       "       [0.24627667, 0.24627667, 0.24627667, 0.24627667, 0.24627667],\n",
       "       [0.24627667, 0.24627667, 0.24627667, 0.24627667, 0.24627667],\n",
       "       [0.24627667, 0.24627667, 0.24627667, 0.24627667, 0.24627667]])"
      ]
     },
     "execution_count": 17,
     "metadata": {},
     "output_type": "execute_result"
    }
   ],
   "source": [
    "(g - 0.5)**2 + s**2"
   ]
  },
  {
   "cell_type": "code",
   "execution_count": null,
   "id": "2a3af721-2509-4328-98e7-17ec454d05f6",
   "metadata": {},
   "outputs": [],
   "source": [
    "def phasor_circle(ax):\n",
    "    x = np.arange("
   ]
  },
  {
   "cell_type": "code",
   "execution_count": null,
   "id": "8d480b77-9c20-4297-8a04-d309e705327c",
   "metadata": {},
   "outputs": [],
   "source": [
    "n_harmonics = 4\n",
    "fig, ax = plt.subplots(n_harmonics, 1, figsize=(8, n_harmonics*5))\n"
   ]
  },
  {
   "cell_type": "code",
   "execution_count": null,
   "id": "38400c51-f166-497b-9139-dd690ad0e8a2",
   "metadata": {},
   "outputs": [],
   "source": []
  },
  {
   "cell_type": "code",
   "execution_count": null,
   "id": "acdceec1-f802-4108-997c-a8c07367589f",
   "metadata": {},
   "outputs": [],
   "source": []
  },
  {
   "cell_type": "code",
   "execution_count": null,
   "id": "d9a1a249-8d2d-4c4d-b6aa-688c7290d300",
   "metadata": {},
   "outputs": [],
   "source": []
  },
  {
   "cell_type": "code",
   "execution_count": null,
   "id": "b84cf72e-7c11-4ddf-8772-4713dfac8fed",
   "metadata": {},
   "outputs": [],
   "source": []
  },
  {
   "cell_type": "code",
   "execution_count": 80,
   "id": "0aaf28c1-abc0-49b3-aa6c-8128c11c60b4",
   "metadata": {},
   "outputs": [],
   "source": [
    "ic = 0"
   ]
  },
  {
   "cell_type": "code",
   "execution_count": 20,
   "id": "9c7ab08c-aab6-40a4-9859-4e4d2e525a43",
   "metadata": {},
   "outputs": [
    {
     "data": {
      "text/plain": [
       "array([0.87932581, 0.87932581, 0.87932581, 0.87932581, 0.87932581,\n",
       "       0.87932581, 0.87932581, 0.87932581, 0.87932581, 0.87932581,\n",
       "       0.87932581, 0.87932581, 0.87932581, 0.87932581, 0.87932581,\n",
       "       0.87932581, 0.87932581, 0.87932581, 0.87932581, 0.87932581,\n",
       "       0.87932581, 0.87932581, 0.87932581, 0.87932581, 0.87932581])"
      ]
     },
     "execution_count": 20,
     "metadata": {},
     "output_type": "execute_result"
    }
   ],
   "source": [
    "x"
   ]
  },
  {
   "cell_type": "code",
   "execution_count": 22,
   "id": "03bafc03-ac25-4230-bf41-3765d1a18c86",
   "metadata": {},
   "outputs": [
    {
     "data": {
      "image/png": "[encoded data removed]",
      "text/plain": [
       "<Figure size 800x500 with 1 Axes>"
      ]
     },
     "metadata": {},
     "output_type": "display_data"
    }
   ],
   "source": [
    "n_harmonics = 1\n",
    "fig, ax = plt.subplots(n_harmonics, 1, figsize=(8, n_harmonics*5))\n",
    "for i in range(n_harmonics):\n",
    "    # g, s, md, ph, dc = phasor(flim_data_stack, harmonic = i+1)\n",
    "    # x, y = histogram_filtering(dc, g, s, ic)\n",
    "    x = np.ravel(g)\n",
    "    y = np.ravel(s)\n",
    "    ax.plot(x,y, '*')\n",
    "    # ax.hist2d(x, y, bins=256, norm=colors.LogNorm(), range=[[-1, 1], [-1, 1]], )\n",
    "    # phasor_circle(ax[i])\n",
    "    \n",
    "    #, range = [[-1, 1], [-1, 1]])\n",
    "    # ax[i].hist2d(x, y, bins=256, cmap=\"RdYlGn_r\", norm=colors.LogNorm(), range=[[-1, 1], [-1, 1]])\n",
    "\n",
    "    # # ax[i].scatter(x,y,marker='.', s=4)\n",
    "    # ax[i].hist2d(x, y, bins=256)\n",
    "    "
   ]
  },
  {
   "cell_type": "code",
   "execution_count": 12,
   "id": "042f9f1a-e514-4979-90ee-e2e5aa780807",
   "metadata": {},
   "outputs": [],
   "source": [
    "# fig, ax = plt.subplots()\n",
    "# x, y = histogram_filtering(dc, g, s, ic)\n",
    "# ax.hist2d(x, y, bins=256, cmap=\"RdYlGn_r\", norm=colors.LogNorm(), range=[[-1, 1], [-1, 1]])\n",
    "# ax.set_title('Phasor')\n",
    "# phasor_circle(ax)"
   ]
  },
  {
   "cell_type": "code",
   "execution_count": null,
   "id": "8a450b2b-b3ce-464b-a91f-cdf670aa4290",
   "metadata": {},
   "outputs": [],
   "source": []
  }
 ],
 "metadata": {
  "kernelspec": {
   "display_name": "Python 3 (ipykernel)",
   "language": "python",
   "name": "python3"
  },
  "language_info": {
   "codemirror_mode": {
    "name": "ipython",
    "version": 3
   },
   "file_extension": ".py",
   "mimetype": "text/x-python",
   "name": "python",
   "nbconvert_exporter": "python",
   "pygments_lexer": "ipython3",
   "version": "3.9.13"
  },
  "widgets": {
   "application/vnd.jupyter.widget-state+json": {
    "state": {},
    "version_major": 2,
    "version_minor": 0
   }
  }
 },
 "nbformat": 4,
 "nbformat_minor": 5
}
