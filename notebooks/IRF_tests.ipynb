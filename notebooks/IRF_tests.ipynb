{
 "cells": [
  {
   "attachments": {},
   "cell_type": "markdown",
   "metadata": {},
   "source": [
    "# Testing of synthetic IRFs"
   ]
  },
  {
   "attachments": {},
   "cell_type": "markdown",
   "metadata": {},
   "source": [
    "Generation of a poisson noisy 2 life time component data with a gaussian IRF (sigma = 100 so that FWHM is around 300 ps)."
   ]
  },
  {
   "cell_type": "code",
   "execution_count": 1,
   "metadata": {},
   "outputs": [],
   "source": [
    "import numpy as np\n",
    "import matplotlib.pyplot as plt\n",
    "from napari_flim_phasor_plotter import _synthetic as syn\n",
    "import napari"
   ]
  },
  {
   "cell_type": "code",
   "execution_count": 2,
   "metadata": {},
   "outputs": [],
   "source": [
    "def calculate_exp(x, A, tau):\n",
    "    import numpy as np\n",
    "    if np.isscalar(tau):\n",
    "        tau = np.array([tau])\n",
    "        A = np.array([A])\n",
    "    return np.sum(A[:, None] * np.exp(-1/tau[:, None]*x), axis = 0)"
   ]
  },
  {
   "cell_type": "code",
   "execution_count": 5,
   "metadata": {},
   "outputs": [],
   "source": [
    "laser_frequency = 40 # MHz\n",
    "number_of_time_points = 30\n",
    "small_time_array = syn.create_time_array(laser_frequency,number_of_time_points)\n",
    "\n",
    "tau_1 = 0.7\n",
    "tau_2 = 2\n",
    "a1 = 0.6\n",
    "two_amplitudes = np.array([a1, 1-a1])\n",
    "tau_array = np.array([tau_1,tau_2])"
   ]
  },
  {
   "cell_type": "code",
   "execution_count": 6,
   "metadata": {},
   "outputs": [],
   "source": [
    "normalized_counts = calculate_exp(small_time_array, two_amplitudes, tau_array)"
   ]
  },
  {
   "cell_type": "code",
   "execution_count": 7,
   "metadata": {},
   "outputs": [],
   "source": [
    "maximum_photons = 2000\n",
    "bg_counts = 40\n",
    "sigma = 0.2 #ns\n",
    "offset = 2"
   ]
  },
  {
   "cell_type": "code",
   "execution_count": 8,
   "metadata": {},
   "outputs": [],
   "source": [
    "from scipy.stats import norm\n",
    "from scipy import signal"
   ]
  },
  {
   "cell_type": "code",
   "execution_count": 9,
   "metadata": {},
   "outputs": [],
   "source": [
    "syn_irf = norm.pdf(small_time_array, loc = offset, scale = sigma)\n"
   ]
  },
  {
   "cell_type": "code",
   "execution_count": 10,
   "metadata": {},
   "outputs": [],
   "source": [
    "syn_irf = syn_irf/np.max(syn_irf) * maximum_photons"
   ]
  },
  {
   "cell_type": "code",
   "execution_count": 11,
   "metadata": {},
   "outputs": [],
   "source": [
    "noisy_irf = syn_irf + bg_counts"
   ]
  },
  {
   "cell_type": "code",
   "execution_count": 119,
   "metadata": {},
   "outputs": [],
   "source": [
    "#normalized_counts = np.zeros(small_time_array.shape)\n",
    "#normalized_counts[small_time_array>offset] = calculate_exp(small_time_array[:np.sum(small_time_array>offset)], two_amplitudes, tau_array)\n",
    "normalized_counts = calculate_exp(small_time_array, two_amplitudes, tau_array)"
   ]
  },
  {
   "cell_type": "code",
   "execution_count": 12,
   "metadata": {},
   "outputs": [],
   "source": [
    "noisy_signal_counts = normalized_counts * maximum_photons + bg_counts"
   ]
  },
  {
   "cell_type": "code",
   "execution_count": 18,
   "metadata": {},
   "outputs": [],
   "source": [
    "syn_irf = norm.pdf(small_time_array, loc = offset, scale = sigma)\n",
    "syn_irf /= np.max(syn_irf)"
   ]
  },
  {
   "cell_type": "code",
   "execution_count": 35,
   "metadata": {},
   "outputs": [
    {
     "data": {
      "text/plain": [
       "array([8.16000000e+04, 1.18892037e+05, 4.21883702e+06, 2.73443660e+06,\n",
       "       1.48482097e+06, 9.46326130e+05, 6.78461659e+05, 5.28749101e+05,\n",
       "       4.38603855e+05, 3.82156140e+05, 3.46228995e+05, 3.23314675e+05,\n",
       "       3.08822285e+05, 2.99834342e+05, 2.94460668e+05, 2.91465263e+05,\n",
       "       2.90036371e+05, 2.89639780e+05, 2.89923600e+05, 2.90655937e+05,\n",
       "       2.91683944e+05, 2.92906864e+05, 2.94258278e+05, 2.95694400e+05,\n",
       "       2.97186365e+05, 2.98715144e+05, 3.00268193e+05, 3.01837240e+05,\n",
       "       3.03416835e+05, 3.05003383e+05, 2.23394396e+05, 1.86097089e+05,\n",
       "       8.61418790e+04, 5.99262354e+04, 5.18718492e+04, 4.61626032e+04,\n",
       "       4.18979397e+04, 3.85547615e+04, 3.58096853e+04, 3.34560506e+04,\n",
       "       3.13596029e+04, 2.94324397e+04, 2.76167954e+04, 2.58746445e+04,\n",
       "       2.41809362e+04, 2.25191608e+04, 2.08784362e+04, 1.92515891e+04,\n",
       "       1.76338903e+04, 1.60222226e+04, 1.44145308e+04, 1.28094600e+04,\n",
       "       1.12061172e+04, 9.60391345e+03, 8.00246065e+03, 6.40150291e+03,\n",
       "       4.80087153e+03, 3.20045529e+03, 1.60018089e+03])"
      ]
     },
     "execution_count": 35,
     "metadata": {},
     "output_type": "execute_result"
    }
   ],
   "source": [
    "corr = signal.convolve(noisy_irf, noisy_signal_counts, mode = \"full\", method = \"direct\")\n",
    "corr"
   ]
  },
  {
   "cell_type": "code",
   "execution_count": 39,
   "metadata": {},
   "outputs": [
    {
     "data": {
      "image/png": "[encoded data removed]",
      "text/plain": [
       "<Figure size 640x480 with 1 Axes>"
      ]
     },
     "metadata": {},
     "output_type": "display_data"
    }
   ],
   "source": [
    "#plt.plot(small_time_array, syn_irf, color = \"black\")\n",
    "#plt.plot(small_time_array[small_time_array>0], lognorm.pdf(small_time_array[small_time_array>0], sigma, offset), color = \"r\")\n",
    "\n",
    "plt.plot(corr/1000, color = \"black\")\n",
    "plt.plot(small_time_array, noisy_signal_counts, color = \"pink\")\n",
    "plt.plot(small_time_array, noisy_irf)\n",
    "plt.show()"
   ]
  },
  {
   "attachments": {},
   "cell_type": "markdown",
   "metadata": {},
   "source": [
    "Another approach"
   ]
  },
  {
   "cell_type": "code",
   "execution_count": 4,
   "metadata": {},
   "outputs": [],
   "source": [
    "t_min = 0\n",
    "t_max = 30\n",
    "num_points = 10000\n",
    "\n",
    "time = np.linspace(t_min, t_max, num_points)\n"
   ]
  },
  {
   "cell_type": "code",
   "execution_count": 9,
   "metadata": {},
   "outputs": [],
   "source": [
    "normalized_counts = np.zeros(num_points)\n",
    "normalized_counts[(time-5)>0] = calculate_exp(time[:len(time[(time-5)>0])], two_amplitudes, tau_array)\n",
    "syn_irf = norm.pdf(time, loc = 5, scale = sigma)"
   ]
  },
  {
   "cell_type": "code",
   "execution_count": 10,
   "metadata": {},
   "outputs": [],
   "source": [
    "noisy_signal_counts = normalized_counts + bg_counts\n",
    "noisy_syn_irf = syn_irf/np.max(syn_irf) + bg_counts"
   ]
  },
  {
   "cell_type": "code",
   "execution_count": 196,
   "metadata": {},
   "outputs": [],
   "source": [
    "normalized_noisy_signal_counts = noisy_signal_counts/np.trapz(noisy_signal_counts, time)\n",
    "normalized_noisy_syn_irf = noisy_syn_irf/np.trapz(noisy_syn_irf, time)"
   ]
  },
  {
   "cell_type": "code",
   "execution_count": 12,
   "metadata": {},
   "outputs": [],
   "source": [
    "convolved_signal = signal.convolve(noisy_signal_counts, noisy_syn_irf, mode = \"same\")/num_points"
   ]
  },
  {
   "cell_type": "code",
   "execution_count": 13,
   "metadata": {},
   "outputs": [
    {
     "data": {
      "text/plain": [
       "[<matplotlib.lines.Line2D at 0x7f84244223a0>]"
      ]
     },
     "execution_count": 13,
     "metadata": {},
     "output_type": "execute_result"
    },
    {
     "data": {
      "image/png": "[encoded data removed]",
      "text/plain": [
       "<Figure size 640x480 with 1 Axes>"
      ]
     },
     "metadata": {},
     "output_type": "display_data"
    }
   ],
   "source": [
    "plt.plot(noisy_signal_counts, label='Gaussian Distribution')\n",
    "plt.plot(noisy_syn_irf, label='Exponential Decay')\n",
    "plt.plot(convolved_signal, label='Convolution with Noise')\n"
   ]
  },
  {
   "cell_type": "code",
   "execution_count": 18,
   "metadata": {},
   "outputs": [
    {
     "data": {
      "text/plain": [
       "(30,)"
      ]
     },
     "execution_count": 18,
     "metadata": {},
     "output_type": "execute_result"
    }
   ],
   "source": [
    "np.stack([small_time_array,normalized_counts])[0].shape"
   ]
  }
 ],
 "metadata": {
  "kernelspec": {
   "display_name": "napari-phasor-plotter-dev",
   "language": "python",
   "name": "python3"
  },
  "language_info": {
   "codemirror_mode": {
    "name": "ipython",
    "version": 3
   },
   "file_extension": ".py",
   "mimetype": "text/x-python",
   "name": "python",
   "nbconvert_exporter": "python",
   "pygments_lexer": "ipython3",
   "version": "3.9.16"
  },
  "orig_nbformat": 4
 },
 "nbformat": 4,
 "nbformat_minor": 2
}
